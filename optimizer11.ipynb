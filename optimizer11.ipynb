{
  "cells": [
    {
      "cell_type": "markdown",
      "metadata": {
        "id": "view-in-github",
        "colab_type": "text"
      },
      "source": [
        "<a href=\"https://colab.research.google.com/github/DIPANJAN001/Forecasting-Solar-Energy/blob/master/optimizer11.ipynb\" target=\"_parent\"><img src=\"https://colab.research.google.com/assets/colab-badge.svg\" alt=\"Open In Colab\"/></a>"
      ]
    },
    {
      "cell_type": "code",
      "execution_count": 1,
      "metadata": {
        "colab": {
          "base_uri": "https://localhost:8080/"
        },
        "id": "rzs_vH9vlX74",
        "outputId": "03044fe4-adb7-4f30-b404-a0e7c0daf8c4"
      },
      "outputs": [
        {
          "output_type": "stream",
          "name": "stdout",
          "text": [
            "Looking in indexes: https://pypi.org/simple, https://us-python.pkg.dev/colab-wheels/public/simple/\n",
            "Collecting Boruta\n",
            "  Downloading Boruta-0.3-py3-none-any.whl (56 kB)\n",
            "\u001b[2K     \u001b[90m━━━━━━━━━━━━━━━━━━━━━━━━━━━━━━━━━━━━━━━━\u001b[0m \u001b[32m56.6/56.6 KB\u001b[0m \u001b[31m2.3 MB/s\u001b[0m eta \u001b[36m0:00:00\u001b[0m\n",
            "\u001b[?25hRequirement already satisfied: numpy>=1.10.4 in /usr/local/lib/python3.8/dist-packages (from Boruta) (1.21.6)\n",
            "Requirement already satisfied: scikit-learn>=0.17.1 in /usr/local/lib/python3.8/dist-packages (from Boruta) (1.0.2)\n",
            "Requirement already satisfied: scipy>=0.17.0 in /usr/local/lib/python3.8/dist-packages (from Boruta) (1.7.3)\n",
            "Requirement already satisfied: joblib>=0.11 in /usr/local/lib/python3.8/dist-packages (from scikit-learn>=0.17.1->Boruta) (1.2.0)\n",
            "Requirement already satisfied: threadpoolctl>=2.0.0 in /usr/local/lib/python3.8/dist-packages (from scikit-learn>=0.17.1->Boruta) (3.1.0)\n",
            "Installing collected packages: Boruta\n",
            "Successfully installed Boruta-0.3\n"
          ]
        }
      ],
      "source": [
        "import pandas as pd\n",
        "import numpy as np\n",
        "import matplotlib.pyplot as plt\n",
        "!pip install Boruta\n",
        "import pandas as pd\n",
        "import numpy as np\n",
        "from sklearn.ensemble import RandomForestRegressor\n",
        "from boruta import BorutaPy\n",
        "from sklearn.model_selection import train_test_split\n",
        "from sklearn.metrics import accuracy_score\n",
        "from keras.models import Sequential\n",
        "from keras.layers import Dense\n",
        "from keras.layers import LSTM\n",
        "from keras.layers import Dropout\n",
        "from keras.layers import concatenate\n",
        "from keras import Model\n",
        "from keras.layers import Input\n",
        "from keras.layers import Bidirectional\n",
        "from keras import layers\n",
        "from sklearn.metrics import mean_squared_error\n",
        "from sklearn.datasets import make_classification\n",
        "from sklearn.datasets import make_classification\n",
        "from sklearn.preprocessing import MinMaxScaler\n",
        "from sklearn.model_selection import train_test_split\n",
        "from keras.layers import LeakyReLU\n",
        "from keras.models import Model\n",
        "from keras.layers import Input\n",
        "from keras.layers import Dense\n",
        "from keras.layers import BatchNormalization\n",
        "from keras.models import load_model\n",
        "from keras.layers import Input\n",
        "from sklearn.decomposition import PCA "
      ]
    },
    {
      "cell_type": "code",
      "execution_count": 2,
      "metadata": {
        "id": "lDilv4v2lz-w"
      },
      "outputs": [],
      "source": [
        "def lstm_data_transform(x_data, y_data, num_steps):\n",
        "    \"\"\" Changes data to the format for LSTM training \n",
        "for sliding window approach \"\"\"\n",
        "    # Prepare the list for the transformed data\n",
        "    X, y = list(), list()\n",
        "    # Loop of the entire data set\n",
        "    for i in range(x_data.shape[0]):\n",
        "        # compute a new (sliding window) index\n",
        "        end_ix = i + num_steps\n",
        "        # if index is larger than the size of the dataset, we stop\n",
        "        if end_ix >= x_data.shape[0]:\n",
        "            break\n",
        "        # Get a sequence of data for x\n",
        "        seq_X = x_data[i:end_ix]\n",
        "        # Get only the last element of the sequency for y\n",
        "        seq_y = y_data[end_ix]\n",
        "        # Append the list with sequencies\n",
        "        X.append(seq_X)\n",
        "        y.append(seq_y)\n",
        "    # Make final arrays\n",
        "    x_array = np.array(X)\n",
        "    y_array = np.array(y)\n",
        "    return x_array, y_array"
      ]
    },
    {
      "cell_type": "code",
      "execution_count": 3,
      "metadata": {
        "id": "iQt_oZP7QczL"
      },
      "outputs": [],
      "source": [
        "df=pd.read_excel(\"/content/pv_04.xlsx\")\n",
        "weather_input1=df.drop('power_normed',axis=1)\n",
        "weather_input=weather_input1.drop('time_idx',axis=1)\n",
        "solpow=df['power_normed']"
      ]
    },
    {
      "cell_type": "code",
      "source": [
        "from sklearn.feature_selection import RFE\n",
        "from sklearn.linear_model import LinearRegression\n",
        "\n",
        "# Define the model\n",
        "model = LinearRegression()\n",
        "\n",
        "# Define the feature selection method\n",
        "rfe = RFE(model, n_features_to_select=15)\n",
        "\n",
        "# Apply the feature selection method\n",
        "X_train_ = rfe.fit_transform(weather_input,solpow)"
      ],
      "metadata": {
        "id": "0Her2REl-aC6"
      },
      "execution_count": 14,
      "outputs": []
    },
    {
      "cell_type": "code",
      "source": [
        "X_train_[0]"
      ],
      "metadata": {
        "id": "4DLu7nNo-wBU",
        "outputId": "331be47b-1ab2-4a68-e27e-e7aa61a6ec67",
        "colab": {
          "base_uri": "https://localhost:8080/"
        }
      },
      "execution_count": 15,
      "outputs": [
        {
          "output_type": "execute_result",
          "data": {
            "text/plain": [
              "array([1.00000000e+00, 3.73043347e-18, 0.00000000e+00, 0.00000000e+00,\n",
              "       0.00000000e+00, 0.00000000e+00, 0.00000000e+00, 0.00000000e+00,\n",
              "       0.00000000e+00, 7.03744759e-01, 5.25640098e-01, 9.68594902e-01,\n",
              "       0.00000000e+00, 0.00000000e+00, 4.86973460e-04])"
            ]
          },
          "metadata": {},
          "execution_count": 15
        }
      ]
    },
    {
      "cell_type": "code",
      "execution_count": 13,
      "metadata": {
        "colab": {
          "base_uri": "https://localhost:8080/",
          "height": 1000
        },
        "id": "EoPnMw4oQQlc",
        "outputId": "38d528f6-056e-48c9-e54d-3a597f7354d8"
      },
      "outputs": [
        {
          "output_type": "stream",
          "name": "stdout",
          "text": [
            "Iteration: \t1 / 100\n",
            "Confirmed: \t0\n",
            "Tentative: \t15\n",
            "Rejected: \t0\n",
            "Iteration: \t2 / 100\n",
            "Confirmed: \t0\n",
            "Tentative: \t15\n",
            "Rejected: \t0\n",
            "Iteration: \t3 / 100\n",
            "Confirmed: \t0\n",
            "Tentative: \t15\n",
            "Rejected: \t0\n",
            "Iteration: \t4 / 100\n",
            "Confirmed: \t0\n",
            "Tentative: \t15\n",
            "Rejected: \t0\n",
            "Iteration: \t5 / 100\n",
            "Confirmed: \t0\n",
            "Tentative: \t15\n",
            "Rejected: \t0\n",
            "Iteration: \t6 / 100\n",
            "Confirmed: \t0\n",
            "Tentative: \t15\n",
            "Rejected: \t0\n",
            "Iteration: \t7 / 100\n",
            "Confirmed: \t0\n",
            "Tentative: \t15\n",
            "Rejected: \t0\n",
            "Iteration: \t8 / 100\n",
            "Confirmed: \t7\n",
            "Tentative: \t4\n",
            "Rejected: \t4\n",
            "Iteration: \t9 / 100\n",
            "Confirmed: \t7\n",
            "Tentative: \t4\n",
            "Rejected: \t4\n",
            "Iteration: \t10 / 100\n",
            "Confirmed: \t7\n",
            "Tentative: \t4\n",
            "Rejected: \t4\n",
            "Iteration: \t11 / 100\n",
            "Confirmed: \t7\n",
            "Tentative: \t4\n",
            "Rejected: \t4\n",
            "Iteration: \t12 / 100\n",
            "Confirmed: \t8\n",
            "Tentative: \t3\n",
            "Rejected: \t4\n",
            "Iteration: \t13 / 100\n",
            "Confirmed: \t8\n",
            "Tentative: \t3\n",
            "Rejected: \t4\n",
            "Iteration: \t14 / 100\n",
            "Confirmed: \t8\n",
            "Tentative: \t3\n",
            "Rejected: \t4\n",
            "Iteration: \t15 / 100\n",
            "Confirmed: \t8\n",
            "Tentative: \t3\n",
            "Rejected: \t4\n",
            "Iteration: \t16 / 100\n",
            "Confirmed: \t8\n",
            "Tentative: \t3\n",
            "Rejected: \t4\n",
            "Iteration: \t17 / 100\n",
            "Confirmed: \t8\n",
            "Tentative: \t3\n",
            "Rejected: \t4\n",
            "Iteration: \t18 / 100\n",
            "Confirmed: \t8\n",
            "Tentative: \t3\n",
            "Rejected: \t4\n",
            "Iteration: \t19 / 100\n",
            "Confirmed: \t8\n",
            "Tentative: \t3\n",
            "Rejected: \t4\n",
            "Iteration: \t20 / 100\n",
            "Confirmed: \t8\n",
            "Tentative: \t3\n",
            "Rejected: \t4\n",
            "Iteration: \t21 / 100\n",
            "Confirmed: \t8\n",
            "Tentative: \t3\n",
            "Rejected: \t4\n",
            "Iteration: \t22 / 100\n",
            "Confirmed: \t8\n",
            "Tentative: \t3\n",
            "Rejected: \t4\n",
            "Iteration: \t23 / 100\n",
            "Confirmed: \t8\n",
            "Tentative: \t3\n",
            "Rejected: \t4\n",
            "Iteration: \t24 / 100\n",
            "Confirmed: \t8\n",
            "Tentative: \t3\n",
            "Rejected: \t4\n",
            "Iteration: \t25 / 100\n",
            "Confirmed: \t8\n",
            "Tentative: \t3\n",
            "Rejected: \t4\n",
            "Iteration: \t26 / 100\n",
            "Confirmed: \t8\n",
            "Tentative: \t3\n",
            "Rejected: \t4\n",
            "Iteration: \t27 / 100\n",
            "Confirmed: \t8\n",
            "Tentative: \t3\n",
            "Rejected: \t4\n",
            "Iteration: \t28 / 100\n",
            "Confirmed: \t8\n",
            "Tentative: \t3\n",
            "Rejected: \t4\n",
            "Iteration: \t29 / 100\n",
            "Confirmed: \t8\n",
            "Tentative: \t3\n",
            "Rejected: \t4\n",
            "Iteration: \t30 / 100\n",
            "Confirmed: \t8\n",
            "Tentative: \t3\n",
            "Rejected: \t4\n",
            "Iteration: \t31 / 100\n",
            "Confirmed: \t8\n",
            "Tentative: \t3\n",
            "Rejected: \t4\n",
            "Iteration: \t32 / 100\n",
            "Confirmed: \t8\n",
            "Tentative: \t3\n",
            "Rejected: \t4\n",
            "Iteration: \t33 / 100\n",
            "Confirmed: \t8\n",
            "Tentative: \t3\n",
            "Rejected: \t4\n",
            "Iteration: \t34 / 100\n",
            "Confirmed: \t8\n",
            "Tentative: \t3\n",
            "Rejected: \t4\n",
            "Iteration: \t35 / 100\n",
            "Confirmed: \t8\n",
            "Tentative: \t3\n",
            "Rejected: \t4\n",
            "Iteration: \t36 / 100\n",
            "Confirmed: \t8\n",
            "Tentative: \t3\n",
            "Rejected: \t4\n",
            "Iteration: \t37 / 100\n",
            "Confirmed: \t8\n",
            "Tentative: \t3\n",
            "Rejected: \t4\n",
            "Iteration: \t38 / 100\n",
            "Confirmed: \t8\n",
            "Tentative: \t3\n",
            "Rejected: \t4\n",
            "Iteration: \t39 / 100\n",
            "Confirmed: \t8\n",
            "Tentative: \t3\n",
            "Rejected: \t4\n",
            "Iteration: \t40 / 100\n",
            "Confirmed: \t8\n",
            "Tentative: \t3\n",
            "Rejected: \t4\n",
            "Iteration: \t41 / 100\n",
            "Confirmed: \t8\n",
            "Tentative: \t3\n",
            "Rejected: \t4\n",
            "Iteration: \t42 / 100\n",
            "Confirmed: \t8\n",
            "Tentative: \t3\n",
            "Rejected: \t4\n",
            "Iteration: \t43 / 100\n",
            "Confirmed: \t8\n",
            "Tentative: \t3\n",
            "Rejected: \t4\n",
            "Iteration: \t44 / 100\n",
            "Confirmed: \t8\n",
            "Tentative: \t3\n",
            "Rejected: \t4\n",
            "Iteration: \t45 / 100\n",
            "Confirmed: \t8\n",
            "Tentative: \t3\n",
            "Rejected: \t4\n",
            "Iteration: \t46 / 100\n",
            "Confirmed: \t8\n",
            "Tentative: \t3\n",
            "Rejected: \t4\n",
            "Iteration: \t47 / 100\n",
            "Confirmed: \t8\n",
            "Tentative: \t3\n",
            "Rejected: \t4\n",
            "Iteration: \t48 / 100\n",
            "Confirmed: \t8\n",
            "Tentative: \t3\n",
            "Rejected: \t4\n",
            "Iteration: \t49 / 100\n",
            "Confirmed: \t8\n",
            "Tentative: \t3\n",
            "Rejected: \t4\n",
            "Iteration: \t50 / 100\n",
            "Confirmed: \t8\n",
            "Tentative: \t3\n",
            "Rejected: \t4\n",
            "Iteration: \t51 / 100\n",
            "Confirmed: \t8\n",
            "Tentative: \t3\n",
            "Rejected: \t4\n",
            "Iteration: \t52 / 100\n",
            "Confirmed: \t8\n",
            "Tentative: \t3\n",
            "Rejected: \t4\n",
            "Iteration: \t53 / 100\n",
            "Confirmed: \t8\n",
            "Tentative: \t3\n",
            "Rejected: \t4\n",
            "Iteration: \t54 / 100\n",
            "Confirmed: \t8\n",
            "Tentative: \t3\n",
            "Rejected: \t4\n",
            "Iteration: \t55 / 100\n",
            "Confirmed: \t8\n",
            "Tentative: \t3\n",
            "Rejected: \t4\n",
            "Iteration: \t56 / 100\n",
            "Confirmed: \t8\n",
            "Tentative: \t3\n",
            "Rejected: \t4\n",
            "Iteration: \t57 / 100\n",
            "Confirmed: \t9\n",
            "Tentative: \t2\n",
            "Rejected: \t4\n",
            "Iteration: \t58 / 100\n",
            "Confirmed: \t9\n",
            "Tentative: \t2\n",
            "Rejected: \t4\n",
            "Iteration: \t59 / 100\n",
            "Confirmed: \t9\n",
            "Tentative: \t2\n",
            "Rejected: \t4\n",
            "Iteration: \t60 / 100\n",
            "Confirmed: \t9\n",
            "Tentative: \t2\n",
            "Rejected: \t4\n",
            "Iteration: \t61 / 100\n",
            "Confirmed: \t9\n",
            "Tentative: \t2\n",
            "Rejected: \t4\n",
            "Iteration: \t62 / 100\n",
            "Confirmed: \t9\n",
            "Tentative: \t2\n",
            "Rejected: \t4\n",
            "Iteration: \t63 / 100\n",
            "Confirmed: \t9\n",
            "Tentative: \t2\n",
            "Rejected: \t4\n",
            "Iteration: \t64 / 100\n",
            "Confirmed: \t9\n",
            "Tentative: \t2\n",
            "Rejected: \t4\n",
            "Iteration: \t65 / 100\n",
            "Confirmed: \t9\n",
            "Tentative: \t2\n",
            "Rejected: \t4\n",
            "Iteration: \t66 / 100\n",
            "Confirmed: \t9\n",
            "Tentative: \t2\n",
            "Rejected: \t4\n",
            "Iteration: \t67 / 100\n",
            "Confirmed: \t9\n",
            "Tentative: \t2\n",
            "Rejected: \t4\n",
            "Iteration: \t68 / 100\n",
            "Confirmed: \t9\n",
            "Tentative: \t2\n",
            "Rejected: \t4\n",
            "Iteration: \t69 / 100\n",
            "Confirmed: \t9\n",
            "Tentative: \t2\n",
            "Rejected: \t4\n",
            "Iteration: \t70 / 100\n",
            "Confirmed: \t9\n",
            "Tentative: \t2\n",
            "Rejected: \t4\n",
            "Iteration: \t71 / 100\n",
            "Confirmed: \t9\n",
            "Tentative: \t2\n",
            "Rejected: \t4\n",
            "Iteration: \t72 / 100\n",
            "Confirmed: \t9\n",
            "Tentative: \t2\n",
            "Rejected: \t4\n",
            "Iteration: \t73 / 100\n",
            "Confirmed: \t9\n",
            "Tentative: \t2\n",
            "Rejected: \t4\n",
            "Iteration: \t74 / 100\n",
            "Confirmed: \t9\n",
            "Tentative: \t2\n",
            "Rejected: \t4\n",
            "Iteration: \t75 / 100\n",
            "Confirmed: \t9\n",
            "Tentative: \t2\n",
            "Rejected: \t4\n",
            "Iteration: \t76 / 100\n",
            "Confirmed: \t9\n",
            "Tentative: \t2\n",
            "Rejected: \t4\n",
            "Iteration: \t77 / 100\n",
            "Confirmed: \t9\n",
            "Tentative: \t2\n",
            "Rejected: \t4\n",
            "Iteration: \t78 / 100\n",
            "Confirmed: \t9\n",
            "Tentative: \t2\n",
            "Rejected: \t4\n",
            "Iteration: \t79 / 100\n",
            "Confirmed: \t9\n",
            "Tentative: \t2\n",
            "Rejected: \t4\n",
            "Iteration: \t80 / 100\n",
            "Confirmed: \t9\n",
            "Tentative: \t2\n",
            "Rejected: \t4\n",
            "Iteration: \t81 / 100\n",
            "Confirmed: \t9\n",
            "Tentative: \t2\n",
            "Rejected: \t4\n"
          ]
        },
        {
          "output_type": "error",
          "ename": "KeyboardInterrupt",
          "evalue": "ignored",
          "traceback": [
            "\u001b[0;31m---------------------------------------------------------------------------\u001b[0m",
            "\u001b[0;31mKeyboardInterrupt\u001b[0m                         Traceback (most recent call last)",
            "\u001b[0;32m<ipython-input-13-02b1325cd5b8>\u001b[0m in \u001b[0;36m<module>\u001b[0;34m\u001b[0m\n\u001b[1;32m      1\u001b[0m \u001b[0mrfc\u001b[0m \u001b[0;34m=\u001b[0m \u001b[0mRandomForestRegressor\u001b[0m\u001b[0;34m(\u001b[0m\u001b[0mrandom_state\u001b[0m\u001b[0;34m=\u001b[0m\u001b[0;36m1\u001b[0m\u001b[0;34m,\u001b[0m \u001b[0mn_estimators\u001b[0m\u001b[0;34m=\u001b[0m\u001b[0;36m1000\u001b[0m\u001b[0;34m,\u001b[0m \u001b[0mmax_depth\u001b[0m\u001b[0;34m=\u001b[0m\u001b[0;36m5\u001b[0m\u001b[0;34m)\u001b[0m\u001b[0;34m\u001b[0m\u001b[0;34m\u001b[0m\u001b[0m\n\u001b[1;32m      2\u001b[0m \u001b[0mboruta_selector\u001b[0m \u001b[0;34m=\u001b[0m \u001b[0mBorutaPy\u001b[0m\u001b[0;34m(\u001b[0m\u001b[0mrfc\u001b[0m\u001b[0;34m,\u001b[0m \u001b[0mn_estimators\u001b[0m\u001b[0;34m=\u001b[0m\u001b[0;34m'auto'\u001b[0m\u001b[0;34m,\u001b[0m \u001b[0mverbose\u001b[0m\u001b[0;34m=\u001b[0m\u001b[0;36m2\u001b[0m\u001b[0;34m,\u001b[0m \u001b[0mrandom_state\u001b[0m\u001b[0;34m=\u001b[0m\u001b[0;36m1\u001b[0m\u001b[0;34m)\u001b[0m\u001b[0;34m\u001b[0m\u001b[0;34m\u001b[0m\u001b[0m\n\u001b[0;32m----> 3\u001b[0;31m \u001b[0mboruta_selector\u001b[0m\u001b[0;34m.\u001b[0m\u001b[0mfit\u001b[0m\u001b[0;34m(\u001b[0m\u001b[0mX_train\u001b[0m\u001b[0;34m,\u001b[0m \u001b[0mnp\u001b[0m\u001b[0;34m.\u001b[0m\u001b[0marray\u001b[0m\u001b[0;34m(\u001b[0m\u001b[0msolpow\u001b[0m\u001b[0;34m)\u001b[0m\u001b[0;34m)\u001b[0m\u001b[0;34m\u001b[0m\u001b[0;34m\u001b[0m\u001b[0m\n\u001b[0m",
            "\u001b[0;32m/usr/local/lib/python3.8/dist-packages/boruta/boruta_py.py\u001b[0m in \u001b[0;36mfit\u001b[0;34m(self, X, y)\u001b[0m\n\u001b[1;32m    199\u001b[0m         \"\"\"\n\u001b[1;32m    200\u001b[0m \u001b[0;34m\u001b[0m\u001b[0m\n\u001b[0;32m--> 201\u001b[0;31m         \u001b[0;32mreturn\u001b[0m \u001b[0mself\u001b[0m\u001b[0;34m.\u001b[0m\u001b[0m_fit\u001b[0m\u001b[0;34m(\u001b[0m\u001b[0mX\u001b[0m\u001b[0;34m,\u001b[0m \u001b[0my\u001b[0m\u001b[0;34m)\u001b[0m\u001b[0;34m\u001b[0m\u001b[0;34m\u001b[0m\u001b[0m\n\u001b[0m\u001b[1;32m    202\u001b[0m \u001b[0;34m\u001b[0m\u001b[0m\n\u001b[1;32m    203\u001b[0m     \u001b[0;32mdef\u001b[0m \u001b[0mtransform\u001b[0m\u001b[0;34m(\u001b[0m\u001b[0mself\u001b[0m\u001b[0;34m,\u001b[0m \u001b[0mX\u001b[0m\u001b[0;34m,\u001b[0m \u001b[0mweak\u001b[0m\u001b[0;34m=\u001b[0m\u001b[0;32mFalse\u001b[0m\u001b[0;34m)\u001b[0m\u001b[0;34m:\u001b[0m\u001b[0;34m\u001b[0m\u001b[0;34m\u001b[0m\u001b[0m\n",
            "\u001b[0;32m/usr/local/lib/python3.8/dist-packages/boruta/boruta_py.py\u001b[0m in \u001b[0;36m_fit\u001b[0;34m(self, X, y)\u001b[0m\n\u001b[1;32m    283\u001b[0m \u001b[0;34m\u001b[0m\u001b[0m\n\u001b[1;32m    284\u001b[0m             \u001b[0;31m# add shadow attributes, shuffle them and train estimator, get imps\u001b[0m\u001b[0;34m\u001b[0m\u001b[0;34m\u001b[0m\u001b[0;34m\u001b[0m\u001b[0m\n\u001b[0;32m--> 285\u001b[0;31m             \u001b[0mcur_imp\u001b[0m \u001b[0;34m=\u001b[0m \u001b[0mself\u001b[0m\u001b[0;34m.\u001b[0m\u001b[0m_add_shadows_get_imps\u001b[0m\u001b[0;34m(\u001b[0m\u001b[0mX\u001b[0m\u001b[0;34m,\u001b[0m \u001b[0my\u001b[0m\u001b[0;34m,\u001b[0m \u001b[0mdec_reg\u001b[0m\u001b[0;34m)\u001b[0m\u001b[0;34m\u001b[0m\u001b[0;34m\u001b[0m\u001b[0m\n\u001b[0m\u001b[1;32m    286\u001b[0m \u001b[0;34m\u001b[0m\u001b[0m\n\u001b[1;32m    287\u001b[0m             \u001b[0;31m# get the threshold of shadow importances we will use for rejection\u001b[0m\u001b[0;34m\u001b[0m\u001b[0;34m\u001b[0m\u001b[0;34m\u001b[0m\u001b[0m\n",
            "\u001b[0;32m/usr/local/lib/python3.8/dist-packages/boruta/boruta_py.py\u001b[0m in \u001b[0;36m_add_shadows_get_imps\u001b[0;34m(self, X, y, dec_reg)\u001b[0m\n\u001b[1;32m    410\u001b[0m         \u001b[0mx_sha\u001b[0m \u001b[0;34m=\u001b[0m \u001b[0mnp\u001b[0m\u001b[0;34m.\u001b[0m\u001b[0mapply_along_axis\u001b[0m\u001b[0;34m(\u001b[0m\u001b[0mself\u001b[0m\u001b[0;34m.\u001b[0m\u001b[0m_get_shuffle\u001b[0m\u001b[0;34m,\u001b[0m \u001b[0;36m0\u001b[0m\u001b[0;34m,\u001b[0m \u001b[0mx_sha\u001b[0m\u001b[0;34m)\u001b[0m\u001b[0;34m\u001b[0m\u001b[0;34m\u001b[0m\u001b[0m\n\u001b[1;32m    411\u001b[0m         \u001b[0;31m# get importance of the merged matrix\u001b[0m\u001b[0;34m\u001b[0m\u001b[0;34m\u001b[0m\u001b[0;34m\u001b[0m\u001b[0m\n\u001b[0;32m--> 412\u001b[0;31m         \u001b[0mimp\u001b[0m \u001b[0;34m=\u001b[0m \u001b[0mself\u001b[0m\u001b[0;34m.\u001b[0m\u001b[0m_get_imp\u001b[0m\u001b[0;34m(\u001b[0m\u001b[0mnp\u001b[0m\u001b[0;34m.\u001b[0m\u001b[0mhstack\u001b[0m\u001b[0;34m(\u001b[0m\u001b[0;34m(\u001b[0m\u001b[0mx_cur\u001b[0m\u001b[0;34m,\u001b[0m \u001b[0mx_sha\u001b[0m\u001b[0;34m)\u001b[0m\u001b[0;34m)\u001b[0m\u001b[0;34m,\u001b[0m \u001b[0my\u001b[0m\u001b[0;34m)\u001b[0m\u001b[0;34m\u001b[0m\u001b[0;34m\u001b[0m\u001b[0m\n\u001b[0m\u001b[1;32m    413\u001b[0m         \u001b[0;31m# separate importances of real and shadow features\u001b[0m\u001b[0;34m\u001b[0m\u001b[0;34m\u001b[0m\u001b[0;34m\u001b[0m\u001b[0m\n\u001b[1;32m    414\u001b[0m         \u001b[0mimp_sha\u001b[0m \u001b[0;34m=\u001b[0m \u001b[0mimp\u001b[0m\u001b[0;34m[\u001b[0m\u001b[0mx_cur_w\u001b[0m\u001b[0;34m:\u001b[0m\u001b[0;34m]\u001b[0m\u001b[0;34m\u001b[0m\u001b[0;34m\u001b[0m\u001b[0m\n",
            "\u001b[0;32m/usr/local/lib/python3.8/dist-packages/boruta/boruta_py.py\u001b[0m in \u001b[0;36m_get_imp\u001b[0;34m(self, X, y)\u001b[0m\n\u001b[1;32m    382\u001b[0m     \u001b[0;32mdef\u001b[0m \u001b[0m_get_imp\u001b[0m\u001b[0;34m(\u001b[0m\u001b[0mself\u001b[0m\u001b[0;34m,\u001b[0m \u001b[0mX\u001b[0m\u001b[0;34m,\u001b[0m \u001b[0my\u001b[0m\u001b[0;34m)\u001b[0m\u001b[0;34m:\u001b[0m\u001b[0;34m\u001b[0m\u001b[0;34m\u001b[0m\u001b[0m\n\u001b[1;32m    383\u001b[0m         \u001b[0;32mtry\u001b[0m\u001b[0;34m:\u001b[0m\u001b[0;34m\u001b[0m\u001b[0;34m\u001b[0m\u001b[0m\n\u001b[0;32m--> 384\u001b[0;31m             \u001b[0mself\u001b[0m\u001b[0;34m.\u001b[0m\u001b[0mestimator\u001b[0m\u001b[0;34m.\u001b[0m\u001b[0mfit\u001b[0m\u001b[0;34m(\u001b[0m\u001b[0mX\u001b[0m\u001b[0;34m,\u001b[0m \u001b[0my\u001b[0m\u001b[0;34m)\u001b[0m\u001b[0;34m\u001b[0m\u001b[0;34m\u001b[0m\u001b[0m\n\u001b[0m\u001b[1;32m    385\u001b[0m         \u001b[0;32mexcept\u001b[0m \u001b[0mException\u001b[0m \u001b[0;32mas\u001b[0m \u001b[0me\u001b[0m\u001b[0;34m:\u001b[0m\u001b[0;34m\u001b[0m\u001b[0;34m\u001b[0m\u001b[0m\n\u001b[1;32m    386\u001b[0m             raise ValueError('Please check your X and y variable. The provided'\n",
            "\u001b[0;32m/usr/local/lib/python3.8/dist-packages/sklearn/ensemble/_forest.py\u001b[0m in \u001b[0;36mfit\u001b[0;34m(self, X, y, sample_weight)\u001b[0m\n\u001b[1;32m    448\u001b[0m             \u001b[0;31m# parallel_backend contexts set at a higher level,\u001b[0m\u001b[0;34m\u001b[0m\u001b[0;34m\u001b[0m\u001b[0;34m\u001b[0m\u001b[0m\n\u001b[1;32m    449\u001b[0m             \u001b[0;31m# since correctness does not rely on using threads.\u001b[0m\u001b[0;34m\u001b[0m\u001b[0;34m\u001b[0m\u001b[0;34m\u001b[0m\u001b[0m\n\u001b[0;32m--> 450\u001b[0;31m             trees = Parallel(\n\u001b[0m\u001b[1;32m    451\u001b[0m                 \u001b[0mn_jobs\u001b[0m\u001b[0;34m=\u001b[0m\u001b[0mself\u001b[0m\u001b[0;34m.\u001b[0m\u001b[0mn_jobs\u001b[0m\u001b[0;34m,\u001b[0m\u001b[0;34m\u001b[0m\u001b[0;34m\u001b[0m\u001b[0m\n\u001b[1;32m    452\u001b[0m                 \u001b[0mverbose\u001b[0m\u001b[0;34m=\u001b[0m\u001b[0mself\u001b[0m\u001b[0;34m.\u001b[0m\u001b[0mverbose\u001b[0m\u001b[0;34m,\u001b[0m\u001b[0;34m\u001b[0m\u001b[0;34m\u001b[0m\u001b[0m\n",
            "\u001b[0;32m/usr/local/lib/python3.8/dist-packages/joblib/parallel.py\u001b[0m in \u001b[0;36m__call__\u001b[0;34m(self, iterable)\u001b[0m\n\u001b[1;32m   1086\u001b[0m                 \u001b[0mself\u001b[0m\u001b[0;34m.\u001b[0m\u001b[0m_iterating\u001b[0m \u001b[0;34m=\u001b[0m \u001b[0mself\u001b[0m\u001b[0;34m.\u001b[0m\u001b[0m_original_iterator\u001b[0m \u001b[0;32mis\u001b[0m \u001b[0;32mnot\u001b[0m \u001b[0;32mNone\u001b[0m\u001b[0;34m\u001b[0m\u001b[0;34m\u001b[0m\u001b[0m\n\u001b[1;32m   1087\u001b[0m \u001b[0;34m\u001b[0m\u001b[0m\n\u001b[0;32m-> 1088\u001b[0;31m             \u001b[0;32mwhile\u001b[0m \u001b[0mself\u001b[0m\u001b[0;34m.\u001b[0m\u001b[0mdispatch_one_batch\u001b[0m\u001b[0;34m(\u001b[0m\u001b[0miterator\u001b[0m\u001b[0;34m)\u001b[0m\u001b[0;34m:\u001b[0m\u001b[0;34m\u001b[0m\u001b[0;34m\u001b[0m\u001b[0m\n\u001b[0m\u001b[1;32m   1089\u001b[0m                 \u001b[0;32mpass\u001b[0m\u001b[0;34m\u001b[0m\u001b[0;34m\u001b[0m\u001b[0m\n\u001b[1;32m   1090\u001b[0m \u001b[0;34m\u001b[0m\u001b[0m\n",
            "\u001b[0;32m/usr/local/lib/python3.8/dist-packages/joblib/parallel.py\u001b[0m in \u001b[0;36mdispatch_one_batch\u001b[0;34m(self, iterator)\u001b[0m\n\u001b[1;32m    899\u001b[0m                 \u001b[0;32mreturn\u001b[0m \u001b[0;32mFalse\u001b[0m\u001b[0;34m\u001b[0m\u001b[0;34m\u001b[0m\u001b[0m\n\u001b[1;32m    900\u001b[0m             \u001b[0;32melse\u001b[0m\u001b[0;34m:\u001b[0m\u001b[0;34m\u001b[0m\u001b[0;34m\u001b[0m\u001b[0m\n\u001b[0;32m--> 901\u001b[0;31m                 \u001b[0mself\u001b[0m\u001b[0;34m.\u001b[0m\u001b[0m_dispatch\u001b[0m\u001b[0;34m(\u001b[0m\u001b[0mtasks\u001b[0m\u001b[0;34m)\u001b[0m\u001b[0;34m\u001b[0m\u001b[0;34m\u001b[0m\u001b[0m\n\u001b[0m\u001b[1;32m    902\u001b[0m                 \u001b[0;32mreturn\u001b[0m \u001b[0;32mTrue\u001b[0m\u001b[0;34m\u001b[0m\u001b[0;34m\u001b[0m\u001b[0m\n\u001b[1;32m    903\u001b[0m \u001b[0;34m\u001b[0m\u001b[0m\n",
            "\u001b[0;32m/usr/local/lib/python3.8/dist-packages/joblib/parallel.py\u001b[0m in \u001b[0;36m_dispatch\u001b[0;34m(self, batch)\u001b[0m\n\u001b[1;32m    817\u001b[0m         \u001b[0;32mwith\u001b[0m \u001b[0mself\u001b[0m\u001b[0;34m.\u001b[0m\u001b[0m_lock\u001b[0m\u001b[0;34m:\u001b[0m\u001b[0;34m\u001b[0m\u001b[0;34m\u001b[0m\u001b[0m\n\u001b[1;32m    818\u001b[0m             \u001b[0mjob_idx\u001b[0m \u001b[0;34m=\u001b[0m \u001b[0mlen\u001b[0m\u001b[0;34m(\u001b[0m\u001b[0mself\u001b[0m\u001b[0;34m.\u001b[0m\u001b[0m_jobs\u001b[0m\u001b[0;34m)\u001b[0m\u001b[0;34m\u001b[0m\u001b[0;34m\u001b[0m\u001b[0m\n\u001b[0;32m--> 819\u001b[0;31m             \u001b[0mjob\u001b[0m \u001b[0;34m=\u001b[0m \u001b[0mself\u001b[0m\u001b[0;34m.\u001b[0m\u001b[0m_backend\u001b[0m\u001b[0;34m.\u001b[0m\u001b[0mapply_async\u001b[0m\u001b[0;34m(\u001b[0m\u001b[0mbatch\u001b[0m\u001b[0;34m,\u001b[0m \u001b[0mcallback\u001b[0m\u001b[0;34m=\u001b[0m\u001b[0mcb\u001b[0m\u001b[0;34m)\u001b[0m\u001b[0;34m\u001b[0m\u001b[0;34m\u001b[0m\u001b[0m\n\u001b[0m\u001b[1;32m    820\u001b[0m             \u001b[0;31m# A job can complete so quickly than its callback is\u001b[0m\u001b[0;34m\u001b[0m\u001b[0;34m\u001b[0m\u001b[0;34m\u001b[0m\u001b[0m\n\u001b[1;32m    821\u001b[0m             \u001b[0;31m# called before we get here, causing self._jobs to\u001b[0m\u001b[0;34m\u001b[0m\u001b[0;34m\u001b[0m\u001b[0;34m\u001b[0m\u001b[0m\n",
            "\u001b[0;32m/usr/local/lib/python3.8/dist-packages/joblib/_parallel_backends.py\u001b[0m in \u001b[0;36mapply_async\u001b[0;34m(self, func, callback)\u001b[0m\n\u001b[1;32m    206\u001b[0m     \u001b[0;32mdef\u001b[0m \u001b[0mapply_async\u001b[0m\u001b[0;34m(\u001b[0m\u001b[0mself\u001b[0m\u001b[0;34m,\u001b[0m \u001b[0mfunc\u001b[0m\u001b[0;34m,\u001b[0m \u001b[0mcallback\u001b[0m\u001b[0;34m=\u001b[0m\u001b[0;32mNone\u001b[0m\u001b[0;34m)\u001b[0m\u001b[0;34m:\u001b[0m\u001b[0;34m\u001b[0m\u001b[0;34m\u001b[0m\u001b[0m\n\u001b[1;32m    207\u001b[0m         \u001b[0;34m\"\"\"Schedule a func to be run\"\"\"\u001b[0m\u001b[0;34m\u001b[0m\u001b[0;34m\u001b[0m\u001b[0m\n\u001b[0;32m--> 208\u001b[0;31m         \u001b[0mresult\u001b[0m \u001b[0;34m=\u001b[0m \u001b[0mImmediateResult\u001b[0m\u001b[0;34m(\u001b[0m\u001b[0mfunc\u001b[0m\u001b[0;34m)\u001b[0m\u001b[0;34m\u001b[0m\u001b[0;34m\u001b[0m\u001b[0m\n\u001b[0m\u001b[1;32m    209\u001b[0m         \u001b[0;32mif\u001b[0m \u001b[0mcallback\u001b[0m\u001b[0;34m:\u001b[0m\u001b[0;34m\u001b[0m\u001b[0;34m\u001b[0m\u001b[0m\n\u001b[1;32m    210\u001b[0m             \u001b[0mcallback\u001b[0m\u001b[0;34m(\u001b[0m\u001b[0mresult\u001b[0m\u001b[0;34m)\u001b[0m\u001b[0;34m\u001b[0m\u001b[0;34m\u001b[0m\u001b[0m\n",
            "\u001b[0;32m/usr/local/lib/python3.8/dist-packages/joblib/_parallel_backends.py\u001b[0m in \u001b[0;36m__init__\u001b[0;34m(self, batch)\u001b[0m\n\u001b[1;32m    595\u001b[0m         \u001b[0;31m# Don't delay the application, to avoid keeping the input\u001b[0m\u001b[0;34m\u001b[0m\u001b[0;34m\u001b[0m\u001b[0;34m\u001b[0m\u001b[0m\n\u001b[1;32m    596\u001b[0m         \u001b[0;31m# arguments in memory\u001b[0m\u001b[0;34m\u001b[0m\u001b[0;34m\u001b[0m\u001b[0;34m\u001b[0m\u001b[0m\n\u001b[0;32m--> 597\u001b[0;31m         \u001b[0mself\u001b[0m\u001b[0;34m.\u001b[0m\u001b[0mresults\u001b[0m \u001b[0;34m=\u001b[0m \u001b[0mbatch\u001b[0m\u001b[0;34m(\u001b[0m\u001b[0;34m)\u001b[0m\u001b[0;34m\u001b[0m\u001b[0;34m\u001b[0m\u001b[0m\n\u001b[0m\u001b[1;32m    598\u001b[0m \u001b[0;34m\u001b[0m\u001b[0m\n\u001b[1;32m    599\u001b[0m     \u001b[0;32mdef\u001b[0m \u001b[0mget\u001b[0m\u001b[0;34m(\u001b[0m\u001b[0mself\u001b[0m\u001b[0;34m)\u001b[0m\u001b[0;34m:\u001b[0m\u001b[0;34m\u001b[0m\u001b[0;34m\u001b[0m\u001b[0m\n",
            "\u001b[0;32m/usr/local/lib/python3.8/dist-packages/joblib/parallel.py\u001b[0m in \u001b[0;36m__call__\u001b[0;34m(self)\u001b[0m\n\u001b[1;32m    286\u001b[0m         \u001b[0;31m# change the default number of processes to -1\u001b[0m\u001b[0;34m\u001b[0m\u001b[0;34m\u001b[0m\u001b[0;34m\u001b[0m\u001b[0m\n\u001b[1;32m    287\u001b[0m         \u001b[0;32mwith\u001b[0m \u001b[0mparallel_backend\u001b[0m\u001b[0;34m(\u001b[0m\u001b[0mself\u001b[0m\u001b[0;34m.\u001b[0m\u001b[0m_backend\u001b[0m\u001b[0;34m,\u001b[0m \u001b[0mn_jobs\u001b[0m\u001b[0;34m=\u001b[0m\u001b[0mself\u001b[0m\u001b[0;34m.\u001b[0m\u001b[0m_n_jobs\u001b[0m\u001b[0;34m)\u001b[0m\u001b[0;34m:\u001b[0m\u001b[0;34m\u001b[0m\u001b[0;34m\u001b[0m\u001b[0m\n\u001b[0;32m--> 288\u001b[0;31m             return [func(*args, **kwargs)\n\u001b[0m\u001b[1;32m    289\u001b[0m                     for func, args, kwargs in self.items]\n\u001b[1;32m    290\u001b[0m \u001b[0;34m\u001b[0m\u001b[0m\n",
            "\u001b[0;32m/usr/local/lib/python3.8/dist-packages/joblib/parallel.py\u001b[0m in \u001b[0;36m<listcomp>\u001b[0;34m(.0)\u001b[0m\n\u001b[1;32m    286\u001b[0m         \u001b[0;31m# change the default number of processes to -1\u001b[0m\u001b[0;34m\u001b[0m\u001b[0;34m\u001b[0m\u001b[0;34m\u001b[0m\u001b[0m\n\u001b[1;32m    287\u001b[0m         \u001b[0;32mwith\u001b[0m \u001b[0mparallel_backend\u001b[0m\u001b[0;34m(\u001b[0m\u001b[0mself\u001b[0m\u001b[0;34m.\u001b[0m\u001b[0m_backend\u001b[0m\u001b[0;34m,\u001b[0m \u001b[0mn_jobs\u001b[0m\u001b[0;34m=\u001b[0m\u001b[0mself\u001b[0m\u001b[0;34m.\u001b[0m\u001b[0m_n_jobs\u001b[0m\u001b[0;34m)\u001b[0m\u001b[0;34m:\u001b[0m\u001b[0;34m\u001b[0m\u001b[0;34m\u001b[0m\u001b[0m\n\u001b[0;32m--> 288\u001b[0;31m             return [func(*args, **kwargs)\n\u001b[0m\u001b[1;32m    289\u001b[0m                     for func, args, kwargs in self.items]\n\u001b[1;32m    290\u001b[0m \u001b[0;34m\u001b[0m\u001b[0m\n",
            "\u001b[0;32m/usr/local/lib/python3.8/dist-packages/sklearn/utils/fixes.py\u001b[0m in \u001b[0;36m__call__\u001b[0;34m(self, *args, **kwargs)\u001b[0m\n\u001b[1;32m    214\u001b[0m     \u001b[0;32mdef\u001b[0m \u001b[0m__call__\u001b[0m\u001b[0;34m(\u001b[0m\u001b[0mself\u001b[0m\u001b[0;34m,\u001b[0m \u001b[0;34m*\u001b[0m\u001b[0margs\u001b[0m\u001b[0;34m,\u001b[0m \u001b[0;34m**\u001b[0m\u001b[0mkwargs\u001b[0m\u001b[0;34m)\u001b[0m\u001b[0;34m:\u001b[0m\u001b[0;34m\u001b[0m\u001b[0;34m\u001b[0m\u001b[0m\n\u001b[1;32m    215\u001b[0m         \u001b[0;32mwith\u001b[0m \u001b[0mconfig_context\u001b[0m\u001b[0;34m(\u001b[0m\u001b[0;34m**\u001b[0m\u001b[0mself\u001b[0m\u001b[0;34m.\u001b[0m\u001b[0mconfig\u001b[0m\u001b[0;34m)\u001b[0m\u001b[0;34m:\u001b[0m\u001b[0;34m\u001b[0m\u001b[0;34m\u001b[0m\u001b[0m\n\u001b[0;32m--> 216\u001b[0;31m             \u001b[0;32mreturn\u001b[0m \u001b[0mself\u001b[0m\u001b[0;34m.\u001b[0m\u001b[0mfunction\u001b[0m\u001b[0;34m(\u001b[0m\u001b[0;34m*\u001b[0m\u001b[0margs\u001b[0m\u001b[0;34m,\u001b[0m \u001b[0;34m**\u001b[0m\u001b[0mkwargs\u001b[0m\u001b[0;34m)\u001b[0m\u001b[0;34m\u001b[0m\u001b[0;34m\u001b[0m\u001b[0m\n\u001b[0m\u001b[1;32m    217\u001b[0m \u001b[0;34m\u001b[0m\u001b[0m\n\u001b[1;32m    218\u001b[0m \u001b[0;34m\u001b[0m\u001b[0m\n",
            "\u001b[0;32m/usr/local/lib/python3.8/dist-packages/sklearn/ensemble/_forest.py\u001b[0m in \u001b[0;36m_parallel_build_trees\u001b[0;34m(tree, forest, X, y, sample_weight, tree_idx, n_trees, verbose, class_weight, n_samples_bootstrap)\u001b[0m\n\u001b[1;32m    183\u001b[0m             \u001b[0mcurr_sample_weight\u001b[0m \u001b[0;34m*=\u001b[0m \u001b[0mcompute_sample_weight\u001b[0m\u001b[0;34m(\u001b[0m\u001b[0;34m\"balanced\"\u001b[0m\u001b[0;34m,\u001b[0m \u001b[0my\u001b[0m\u001b[0;34m,\u001b[0m \u001b[0mindices\u001b[0m\u001b[0;34m=\u001b[0m\u001b[0mindices\u001b[0m\u001b[0;34m)\u001b[0m\u001b[0;34m\u001b[0m\u001b[0;34m\u001b[0m\u001b[0m\n\u001b[1;32m    184\u001b[0m \u001b[0;34m\u001b[0m\u001b[0m\n\u001b[0;32m--> 185\u001b[0;31m         \u001b[0mtree\u001b[0m\u001b[0;34m.\u001b[0m\u001b[0mfit\u001b[0m\u001b[0;34m(\u001b[0m\u001b[0mX\u001b[0m\u001b[0;34m,\u001b[0m \u001b[0my\u001b[0m\u001b[0;34m,\u001b[0m \u001b[0msample_weight\u001b[0m\u001b[0;34m=\u001b[0m\u001b[0mcurr_sample_weight\u001b[0m\u001b[0;34m,\u001b[0m \u001b[0mcheck_input\u001b[0m\u001b[0;34m=\u001b[0m\u001b[0;32mFalse\u001b[0m\u001b[0;34m)\u001b[0m\u001b[0;34m\u001b[0m\u001b[0;34m\u001b[0m\u001b[0m\n\u001b[0m\u001b[1;32m    186\u001b[0m     \u001b[0;32melse\u001b[0m\u001b[0;34m:\u001b[0m\u001b[0;34m\u001b[0m\u001b[0;34m\u001b[0m\u001b[0m\n\u001b[1;32m    187\u001b[0m         \u001b[0mtree\u001b[0m\u001b[0;34m.\u001b[0m\u001b[0mfit\u001b[0m\u001b[0;34m(\u001b[0m\u001b[0mX\u001b[0m\u001b[0;34m,\u001b[0m \u001b[0my\u001b[0m\u001b[0;34m,\u001b[0m \u001b[0msample_weight\u001b[0m\u001b[0;34m=\u001b[0m\u001b[0msample_weight\u001b[0m\u001b[0;34m,\u001b[0m \u001b[0mcheck_input\u001b[0m\u001b[0;34m=\u001b[0m\u001b[0;32mFalse\u001b[0m\u001b[0;34m)\u001b[0m\u001b[0;34m\u001b[0m\u001b[0;34m\u001b[0m\u001b[0m\n",
            "\u001b[0;32m/usr/local/lib/python3.8/dist-packages/sklearn/tree/_classes.py\u001b[0m in \u001b[0;36mfit\u001b[0;34m(self, X, y, sample_weight, check_input, X_idx_sorted)\u001b[0m\n\u001b[1;32m   1313\u001b[0m         \"\"\"\n\u001b[1;32m   1314\u001b[0m \u001b[0;34m\u001b[0m\u001b[0m\n\u001b[0;32m-> 1315\u001b[0;31m         super().fit(\n\u001b[0m\u001b[1;32m   1316\u001b[0m             \u001b[0mX\u001b[0m\u001b[0;34m,\u001b[0m\u001b[0;34m\u001b[0m\u001b[0;34m\u001b[0m\u001b[0m\n\u001b[1;32m   1317\u001b[0m             \u001b[0my\u001b[0m\u001b[0;34m,\u001b[0m\u001b[0;34m\u001b[0m\u001b[0;34m\u001b[0m\u001b[0m\n",
            "\u001b[0;32m/usr/local/lib/python3.8/dist-packages/sklearn/tree/_classes.py\u001b[0m in \u001b[0;36mfit\u001b[0;34m(self, X, y, sample_weight, check_input, X_idx_sorted)\u001b[0m\n\u001b[1;32m    418\u001b[0m             )\n\u001b[1;32m    419\u001b[0m \u001b[0;34m\u001b[0m\u001b[0m\n\u001b[0;32m--> 420\u001b[0;31m         \u001b[0mbuilder\u001b[0m\u001b[0;34m.\u001b[0m\u001b[0mbuild\u001b[0m\u001b[0;34m(\u001b[0m\u001b[0mself\u001b[0m\u001b[0;34m.\u001b[0m\u001b[0mtree_\u001b[0m\u001b[0;34m,\u001b[0m \u001b[0mX\u001b[0m\u001b[0;34m,\u001b[0m \u001b[0my\u001b[0m\u001b[0;34m,\u001b[0m \u001b[0msample_weight\u001b[0m\u001b[0;34m)\u001b[0m\u001b[0;34m\u001b[0m\u001b[0;34m\u001b[0m\u001b[0m\n\u001b[0m\u001b[1;32m    421\u001b[0m \u001b[0;34m\u001b[0m\u001b[0m\n\u001b[1;32m    422\u001b[0m         \u001b[0;32mif\u001b[0m \u001b[0mself\u001b[0m\u001b[0;34m.\u001b[0m\u001b[0mn_outputs_\u001b[0m \u001b[0;34m==\u001b[0m \u001b[0;36m1\u001b[0m \u001b[0;32mand\u001b[0m \u001b[0mis_classifier\u001b[0m\u001b[0;34m(\u001b[0m\u001b[0mself\u001b[0m\u001b[0;34m)\u001b[0m\u001b[0;34m:\u001b[0m\u001b[0;34m\u001b[0m\u001b[0;34m\u001b[0m\u001b[0m\n",
            "\u001b[0;31mKeyboardInterrupt\u001b[0m: "
          ]
        }
      ],
      "source": [
        "rfc = RandomForestRegressor(random_state=1, n_estimators=1000, max_depth=5)\n",
        "boruta_selector = BorutaPy(rfc, n_estimators='auto', verbose=2, random_state=1)\n",
        "boruta_selector.fit(X_train, np.array(solpow)) "
      ]
    },
    {
      "cell_type": "code",
      "execution_count": null,
      "metadata": {
        "id": "u2NoSDCGUFNU"
      },
      "outputs": [],
      "source": [
        "X_important_train = boruta_selector.transform(np.array(weather_input))\n",
        "num_steps = 2\n",
        "# training set\n",
        "(x_transformed_train,\n",
        " y_transformed_train) = lstm_data_transform(X_important_train,solpow , num_steps=num_steps)\n",
        "assert x_transformed_train.shape[0] == y_transformed_train.shape[0]\n",
        "from sklearn.model_selection import train_test_split\n",
        "X_train, X_test, y_train, y_test = train_test_split(x_transformed_train,y_transformed_train,test_size=0.33, random_state=42,shuffle=False)\n",
        "#X_train_,X_val,y_train_,y_val=train_test_split(X_train,y_train,test_size=0.2, random_state=42,shuffle=False)\n",
        "inputs1 = Input(shape=(X_train.shape[1],X_train.shape[2]))"
      ]
    },
    {
      "cell_type": "code",
      "source": [
        "num_steps = 2"
      ],
      "metadata": {
        "id": "PgoRwNzlA3R6"
      },
      "execution_count": 19,
      "outputs": []
    },
    {
      "cell_type": "code",
      "source": [
        "(x_transformed_train,\n",
        " y_transformed_train) = lstm_data_transform(X_train_,solpow , num_steps=num_steps)"
      ],
      "metadata": {
        "id": "69A4zDnNAw8r"
      },
      "execution_count": 20,
      "outputs": []
    },
    {
      "cell_type": "code",
      "source": [
        "from sklearn.model_selection import train_test_split\n",
        "X_train, X_test, y_train, y_test = train_test_split(x_transformed_train,y_transformed_train,test_size=0.33, random_state=42,shuffle=False)"
      ],
      "metadata": {
        "id": "RCfNMAG4AfHr"
      },
      "execution_count": 21,
      "outputs": []
    },
    {
      "cell_type": "code",
      "source": [
        "inputs1 = Input(shape=(X_train.shape[1],X_train.shape[2]))"
      ],
      "metadata": {
        "id": "Cc73PMkB_36D"
      },
      "execution_count": 22,
      "outputs": []
    },
    {
      "cell_type": "code",
      "execution_count": 23,
      "metadata": {
        "colab": {
          "base_uri": "https://localhost:8080/"
        },
        "id": "wdKjqiCK5m_T",
        "outputId": "26687c89-0400-4e32-9bbb-0691302a1e42"
      },
      "outputs": [
        {
          "output_type": "execute_result",
          "data": {
            "text/plain": [
              "<KerasTensor: shape=(None, 2, 15) dtype=float32 (created by layer 'input_1')>"
            ]
          },
          "metadata": {},
          "execution_count": 23
        }
      ],
      "source": [
        "inputs1"
      ]
    },
    {
      "cell_type": "code",
      "execution_count": 24,
      "metadata": {
        "id": "V27z-GjNapD4"
      },
      "outputs": [],
      "source": [
        "from keras import optimizers"
      ]
    },
    {
      "cell_type": "code",
      "source": [
        "from keras.optimizers import Adam\n",
        "import numpy as np\n",
        "\n",
        "class SPANDAN(Adam):\n",
        "    def __init__(self, num_restarts=10, num_steps=100, lr=0.001, beta_1=0.9, beta_2=0.999,\n",
        "                 epsilon=1e-8, decay=0., amsgrad=False, noise_std=0.1, **kwargs):\n",
        "        super(SPANDAN, self).__init__(lr, beta_1, beta_2, epsilon, decay, amsgrad, **kwargs)\n",
        "        self.num_restarts = num_restarts\n",
        "        self.num_steps = num_steps\n",
        "        self.noise_std = noise_std\n",
        "        self.best_loss = np.inf\n",
        "        self.best_weights = None\n",
        "        self.initial_weights = None\n",
        "    \n",
        "    def get_weights(self):\n",
        "        return self.best_weights\n",
        "\n",
        "    def set_weights(self, weights):\n",
        "        self.best_weights = weights\n",
        "        self.initial_weights = weights\n",
        "\n",
        "    def on_train_begin(self, logs=None):\n",
        "        self.best_loss = np.inf\n",
        "        self.initial_weights = self.model.get_weights()\n",
        "\n",
        "    def on_batch_end(self, batch, logs=None):\n",
        "        current_loss = logs.get('loss')\n",
        "        if current_loss < self.best_loss:\n",
        "            self.best_loss = current_loss\n",
        "            self.best_weights = self.model.get_weights()\n",
        "\n",
        "    def on_epoch_end(self, epoch, logs=None):\n",
        "        if epoch % self.num_restarts == 0 and epoch > 0:\n",
        "            for _ in range(self.num_steps):\n",
        "                self.model.fit(self.model.train_on_batch, epochs=1, verbose=0)\n",
        "                current_loss = logs.get('loss')\n",
        "                if current_loss < self.best_loss:\n",
        "                    self.best_loss = current_loss\n",
        "                    self.best_weights = self.model.get_weights()\n",
        "            # calculate distance \n",
        "            distance = [np.linalg.norm(b - i) for b, i in zip(self.best_weights, self.initial_weights)]\n",
        "            distance = sum(distance)/len(distance)\n",
        "            \n",
        "            # Adding noise to the best parameters\n",
        "            params_1 = [b + 2*distance for b in self.best_weights]\n",
        "            self.model.set_weights(params_1)\n",
        "            self.initial_weights = params_1\n",
        "\n",
        "            # subtract noise to the best parameters*s\n",
        "            params_2 = [b - 2*distance for b in self.best_weights]\n",
        "            self.model.set_weights(params_2)\n",
        "            self.initial_weights = params_2\n"
      ],
      "metadata": {
        "id": "R4SfhJWQ8S4r"
      },
      "execution_count": 25,
      "outputs": []
    },
    {
      "cell_type": "code",
      "execution_count": 26,
      "metadata": {
        "id": "YM0Epc0yvWnJ"
      },
      "outputs": [],
      "source": [
        "from keras.layers import Bidirectional"
      ]
    },
    {
      "cell_type": "code",
      "execution_count": null,
      "metadata": {
        "colab": {
          "base_uri": "https://localhost:8080/"
        },
        "id": "18n5dRvpuI5T",
        "outputId": "3b261fb6-16f4-4ac2-9f5f-9f1667202160"
      },
      "outputs": [
        {
          "output_type": "stream",
          "name": "stdout",
          "text": [
            "Epoch 1/75\n",
            "102/102 [==============================] - 25s 63ms/step - loss: 0.0123 - mse: 0.0123 - val_loss: 0.0031 - val_mse: 0.0031\n",
            "Epoch 2/75\n",
            "102/102 [==============================] - 4s 43ms/step - loss: 0.0055 - mse: 0.0055 - val_loss: 0.0023 - val_mse: 0.0023\n",
            "Epoch 3/75\n",
            "102/102 [==============================] - 4s 43ms/step - loss: 0.0047 - mse: 0.0047 - val_loss: 0.0020 - val_mse: 0.0020\n",
            "Epoch 4/75\n",
            "102/102 [==============================] - 4s 44ms/step - loss: 0.0042 - mse: 0.0042 - val_loss: 0.0022 - val_mse: 0.0022\n",
            "Epoch 5/75\n",
            "102/102 [==============================] - 4s 43ms/step - loss: 0.0042 - mse: 0.0042 - val_loss: 0.0021 - val_mse: 0.0021\n",
            "Epoch 6/75\n",
            "102/102 [==============================] - 5s 49ms/step - loss: 0.0038 - mse: 0.0038 - val_loss: 0.0019 - val_mse: 0.0019\n",
            "Epoch 7/75\n",
            "102/102 [==============================] - 4s 43ms/step - loss: 0.0038 - mse: 0.0038 - val_loss: 0.0017 - val_mse: 0.0017\n",
            "Epoch 8/75\n",
            "102/102 [==============================] - 5s 45ms/step - loss: 0.0038 - mse: 0.0038 - val_loss: 0.0019 - val_mse: 0.0019\n",
            "Epoch 9/75\n",
            "102/102 [==============================] - 5s 53ms/step - loss: 0.0037 - mse: 0.0037 - val_loss: 0.0020 - val_mse: 0.0020\n",
            "Epoch 10/75\n",
            "102/102 [==============================] - 5s 44ms/step - loss: 0.0037 - mse: 0.0037 - val_loss: 0.0017 - val_mse: 0.0017\n",
            "Epoch 11/75\n",
            "102/102 [==============================] - 4s 43ms/step - loss: 0.0036 - mse: 0.0036 - val_loss: 0.0023 - val_mse: 0.0023\n",
            "Epoch 12/75\n",
            "102/102 [==============================] - 4s 43ms/step - loss: 0.0033 - mse: 0.0033 - val_loss: 0.0016 - val_mse: 0.0016\n",
            "Epoch 13/75\n",
            "102/102 [==============================] - 4s 43ms/step - loss: 0.0033 - mse: 0.0033 - val_loss: 0.0016 - val_mse: 0.0016\n",
            "Epoch 14/75\n",
            "102/102 [==============================] - 4s 43ms/step - loss: 0.0032 - mse: 0.0032 - val_loss: 0.0015 - val_mse: 0.0015\n",
            "Epoch 15/75\n",
            "102/102 [==============================] - 5s 45ms/step - loss: 0.0032 - mse: 0.0032 - val_loss: 0.0016 - val_mse: 0.0016\n",
            "Epoch 16/75\n",
            "102/102 [==============================] - 4s 43ms/step - loss: 0.0031 - mse: 0.0031 - val_loss: 0.0015 - val_mse: 0.0015\n",
            "Epoch 17/75\n",
            "102/102 [==============================] - 5s 44ms/step - loss: 0.0032 - mse: 0.0032 - val_loss: 0.0018 - val_mse: 0.0018\n",
            "Epoch 18/75\n",
            "102/102 [==============================] - 4s 44ms/step - loss: 0.0031 - mse: 0.0031 - val_loss: 0.0015 - val_mse: 0.0015\n",
            "Epoch 19/75\n",
            " 42/102 [===========>..................] - ETA: 2s - loss: 0.0030 - mse: 0.0030"
          ]
        }
      ],
      "source": [
        "def define_model():\n",
        "\n",
        "\n",
        "\n",
        "  '''fe1_0 = Bidirectional(LSTM(208, activation='relu',return_sequences = True))(inputs1)\n",
        "  fe1_1 = Dropout(0.5)(fe1_0)\n",
        "  fe1_2 = Bidirectional(LSTM(24, activation='relu',return_sequences = True))(fe1_1)\n",
        "  fe1_3= Dropout(0.2)(fe1_2)\n",
        "  fe1_4=Bidirectional(LSTM(30, activation='relu'))(fe1_3)\n",
        "  out1_1=Dense(1, activation='relu')(fe1_4)'''\n",
        "\n",
        "\n",
        "\n",
        "  fe2_0 = Bidirectional(LSTM(208, activation='relu',return_sequences = True))(inputs1)\n",
        "  fe2_1 = Dropout(0.6)(fe2_0)\n",
        "  fe2_2 = Bidirectional(LSTM(60, activation='relu',return_sequences = True))(fe2_1)\n",
        "  fe2_3= Dropout(0.5)(fe2_2)\n",
        "  fe2_4=Bidirectional(LSTM(4, activation='relu'))(fe2_3)\n",
        "  out2_1=Dense(1, activation='relu')(fe2_4)\n",
        "\n",
        "  fe3_0 =Bidirectional(LSTM(104, activation='relu',return_sequences = True))(inputs1)\n",
        "  fe3_1 = Dropout(0.6)(fe3_0)\n",
        "  fe3_2 = Bidirectional(LSTM(96, activation='relu',return_sequences = True))(fe3_1)\n",
        "  fe3_3= Dropout(0.5)(fe3_2)\n",
        "  fe3_4=Bidirectional(LSTM(8, activation='relu'))(fe3_3)#16\n",
        "  out3_1=Dense(1, activation='relu')(fe3_4)\n",
        " \n",
        " \n",
        "\n",
        "  output = layers.average([ out3_1, out2_1])\n",
        "  #merged3 = concatenate([out1_1,out2_1,out3_1], name='concat3')\n",
        "  #output = Dense(1, activation='relu')( merged3)\n",
        "  \n",
        "\n",
        "  model = Model(inputs=[inputs1], outputs=[output])\n",
        "  model.compile(optimizer =SPANDAN(),loss='mean_squared_error',metrics=['mse'])\n",
        " \n",
        "  return model\n",
        "mdl=define_model()\n",
        "history=mdl.fit(X_train, y_train, epochs = 75,validation_split=0.2,batch_size =32)\n",
        "import matplotlib.pyplot as plt\n",
        "plt.plot(history.history['loss'], label='train')\n",
        "plt.plot(history.history['val_loss'], label='val')\n",
        "plt.legend()\n",
        "plt.show()\n",
        "y=mdl.predict(X_test)\n",
        "plt.scatter(y,y_test)\n",
        "plt.show()\n",
        "df = pd.DataFrame()\n",
        "df['time']=[i for i in range(len(y))]\n",
        "df['Actual']=y_test\n",
        "df['Predicted']=y\n",
        "plt.plot(df['time'],df['Actual'])\n",
        "plt.plot(df['time'],df['Predicted'])\n",
        "plt.show()\n",
        "print(np.sqrt(mean_squared_error(y,y_test)))"
      ]
    },
    {
      "cell_type": "code",
      "source": [
        "def define_model():\n",
        "\n",
        "\n",
        "  # firs\n",
        "  fe1_0 = Bidirectional(LSTM(208, activation='relu',return_sequences = True))(inputs1)\n",
        "  fe1_1 = Dropout(0.5)(fe1_0)\n",
        "  fe1_2 = Bidirectional(LSTM(24, activation='relu',return_sequences = True))(fe1_1)\n",
        "  fe1_3= Dropout(0.2)(fe1_2)\n",
        "  fe1_4=Bidirectional(LSTM(30, activation='relu'))(fe1_3)\n",
        "  out1_1=Dense(1, activation='relu')(fe1_4)\n",
        "\n",
        "\n",
        "\n",
        "  fe2_0 = Bidirectional(LSTM(208, activation='relu',return_sequences = True))(inputs1)\n",
        "  fe2_1 = Dropout(0.6)(fe2_0)\n",
        "  fe2_2 = Bidirectional(LSTM(60, activation='relu',return_sequences = True))(fe2_1)\n",
        "  fe2_3= Dropout(0.5)(fe2_2)\n",
        "  fe2_4=Bidirectional(LSTM(4, activation='relu'))(fe2_3)\n",
        "  out2_1=Dense(1, activation='relu')(fe2_4)\n",
        "\n",
        "  fe3_0 =Bidirectional(LSTM(104, activation='relu',return_sequences = True))(inputs1)\n",
        "  fe3_1 = Dropout(0.6)(fe3_0)\n",
        "  fe3_2 = Bidirectional(LSTM(96, activation='relu',return_sequences = True))(fe3_1)\n",
        "  fe3_3= Dropout(0.5)(fe3_2)\n",
        "  fe3_4=Bidirectional(LSTM(8, activation='relu'))(fe3_3)#16\n",
        "  out3_1=Dense(1, activation='relu')(fe3_4)\n",
        " \n",
        " \n",
        "\n",
        "  #output = layers.average([ out1_1, out2_1, out3_1])\n",
        "  merged3 = concatenate([out1_1,out2_1,out3_1], name='concat3')\n",
        "  output = Dense(1, activation='relu')( merged3)\n",
        "  \n",
        "\n",
        "  model = Model(inputs=[inputs1], outputs=[output])\n",
        "  model.compile(optimizer=SPANDAN(),loss='mean_squared_error',metrics=['mse'])\n",
        " \n",
        "  return model\n",
        "mdl=define_model()\n",
        "history=mdl.fit(X_train, y_train, epochs = 80,validation_split=0.2,batch_size =128)\n",
        "import matplotlib.pyplot as plt\n",
        "plt.plot(history.history['loss'], label='train')\n",
        "plt.plot(history.history['val_loss'], label='val')\n",
        "plt.legend()\n",
        "plt.show()\n",
        "y=mdl.predict(X_test)\n",
        "plt.scatter(y,y_test)\n",
        "plt.show()\n",
        "df = pd.DataFrame()\n",
        "df['time']=[i for i in range(len(y))]\n",
        "df['Actual']=y_test\n",
        "df['Predicted']=y\n",
        "plt.plot(df['time'],df['Actual'])\n",
        "plt.plot(df['time'],df['Predicted'])\n",
        "plt.show()\n",
        "print(np.sqrt(mean_squared_error(y,y_test)))"
      ],
      "metadata": {
        "colab": {
          "base_uri": "https://localhost:8080/"
        },
        "id": "69rmlatE-aRT",
        "outputId": "7eb02f50-12ee-4a11-caaf-0529eccb2145"
      },
      "execution_count": null,
      "outputs": [
        {
          "output_type": "stream",
          "name": "stdout",
          "text": [
            "Epoch 1/80\n",
            "26/26 [==============================] - ETA: 0s - loss: 0.0218 - mse: 0.0218"
          ]
        },
        {
          "output_type": "stream",
          "name": "stderr",
          "text": [
            "\n",
            "KeyboardInterrupt\n",
            "\n"
          ]
        }
      ]
    },
    {
      "cell_type": "code",
      "source": [
        "import numpy as np"
      ],
      "metadata": {
        "id": "gYmrTo7T_HH5"
      },
      "execution_count": 8,
      "outputs": []
    },
    {
      "cell_type": "code",
      "source": [
        "a=np.random.random((1024,1024))\n",
        "b=np.random.random((1024,1024))\n",
        "c=a.dot(b)"
      ],
      "metadata": {
        "id": "D6FAle-A-7PL"
      },
      "execution_count": 11,
      "outputs": []
    },
    {
      "cell_type": "code",
      "source": [
        "c"
      ],
      "metadata": {
        "id": "5ol4oPKE_VBk",
        "outputId": "3012dfb4-2a07-455e-d4a2-624adae6edfe",
        "colab": {
          "base_uri": "https://localhost:8080/"
        }
      },
      "execution_count": 12,
      "outputs": [
        {
          "output_type": "execute_result",
          "data": {
            "text/plain": [
              "array([[246.93599068, 251.28857176, 248.66852869, ..., 251.46631016,\n",
              "        250.23583766, 251.76454704],\n",
              "       [260.06509628, 261.93920332, 258.81997581, ..., 257.03646579,\n",
              "        261.38082896, 261.77031216],\n",
              "       [257.10204922, 255.02307827, 259.05375092, ..., 259.99902126,\n",
              "        261.35000482, 260.29674168],\n",
              "       ...,\n",
              "       [262.55137229, 263.25127022, 267.01712133, ..., 266.08484901,\n",
              "        263.39770393, 264.86754766],\n",
              "       [261.68271347, 259.3241065 , 260.28616439, ..., 254.44014489,\n",
              "        256.25114385, 260.25638259],\n",
              "       [252.5376462 , 253.3472632 , 249.66980294, ..., 254.84257015,\n",
              "        247.66169465, 254.69182449]])"
            ]
          },
          "metadata": {},
          "execution_count": 12
        }
      ]
    }
  ],
  "metadata": {
    "colab": {
      "provenance": [],
      "authorship_tag": "ABX9TyM59LM1wkeLWZpoF2DYEJpH",
      "include_colab_link": true
    },
    "kernelspec": {
      "display_name": "Python 3",
      "name": "python3"
    },
    "language_info": {
      "name": "python"
    }
  },
  "nbformat": 4,
  "nbformat_minor": 0
}